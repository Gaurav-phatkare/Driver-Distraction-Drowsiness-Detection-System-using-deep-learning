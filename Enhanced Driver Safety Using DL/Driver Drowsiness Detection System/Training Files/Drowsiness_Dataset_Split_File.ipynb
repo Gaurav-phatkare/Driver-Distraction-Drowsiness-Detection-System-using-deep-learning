{
  "nbformat": 4,
  "nbformat_minor": 0,
  "metadata": {
    "colab": {
      "provenance": [],
      "gpuType": "T4"
    },
    "kernelspec": {
      "name": "python3",
      "display_name": "Python 3"
    },
    "language_info": {
      "name": "python"
    },
    "accelerator": "GPU"
  },
  "cells": [
    {
      "cell_type": "code",
      "execution_count": null,
      "metadata": {
        "id": "42-nBWtpNabh",
        "colab": {
          "base_uri": "https://localhost:8080/"
        },
        "outputId": "73728cef-09fa-4d22-8398-550ab0fe3b3c"
      },
      "outputs": [
        {
          "output_type": "stream",
          "name": "stdout",
          "text": [
            "Mounted at /content/drive/\n"
          ]
        }
      ],
      "source": [
        "from google.colab import drive\n",
        "drive.mount('/content/drive/')"
      ]
    },
    {
      "cell_type": "code",
      "source": [
        "import tensorflow as tf\n",
        "import cv2\n",
        "import os\n",
        "import matplotlib.pyplot as plt\n",
        "import numpy as np"
      ],
      "metadata": {
        "id": "Nk52F7BcszT1"
      },
      "execution_count": null,
      "outputs": []
    },
    {
      "cell_type": "code",
      "source": [
        "dataset_path = \"/content/drive/MyDrive/Driver Distraction & Drowsiness detection Using Tensorflow/Driver Drowsiness Detection/Dataset/mrlEyes_2018_01_1\"\n",
        "\n",
        "for dirpath, dirnames, filenames in os.walk(dataset_path):\n",
        "  print(f\"There are {len(dirnames)} directories and {len(filenames)} images in '{dirpath}'.\")\n"
      ],
      "metadata": {
        "id": "AwL25bI6onoF",
        "colab": {
          "base_uri": "https://localhost:8080/"
        },
        "outputId": "491f5e93-f56a-40a9-977f-d615bc3c3d93"
      },
      "execution_count": null,
      "outputs": [
        {
          "output_type": "stream",
          "name": "stdout",
          "text": [
            "There are 37 directories and 2 images in '/content/drive/MyDrive/Driver Distraction & Drowsiness detection Using Tensorflow/Driver Drowsiness Detection/Dataset/mrlEyes_2018_01_1'.\n",
            "There are 0 directories and 8728 images in '/content/drive/MyDrive/Driver Distraction & Drowsiness detection Using Tensorflow/Driver Drowsiness Detection/Dataset/mrlEyes_2018_01_1/s0012'.\n",
            "There are 0 directories and 3605 images in '/content/drive/MyDrive/Driver Distraction & Drowsiness detection Using Tensorflow/Driver Drowsiness Detection/Dataset/mrlEyes_2018_01_1/s0013'.\n",
            "There are 0 directories and 8884 images in '/content/drive/MyDrive/Driver Distraction & Drowsiness detection Using Tensorflow/Driver Drowsiness Detection/Dataset/mrlEyes_2018_01_1/s0014'.\n",
            "There are 0 directories and 1132 images in '/content/drive/MyDrive/Driver Distraction & Drowsiness detection Using Tensorflow/Driver Drowsiness Detection/Dataset/mrlEyes_2018_01_1/s0015'.\n",
            "There are 0 directories and 4410 images in '/content/drive/MyDrive/Driver Distraction & Drowsiness detection Using Tensorflow/Driver Drowsiness Detection/Dataset/mrlEyes_2018_01_1/s0018'.\n",
            "There are 0 directories and 6175 images in '/content/drive/MyDrive/Driver Distraction & Drowsiness detection Using Tensorflow/Driver Drowsiness Detection/Dataset/mrlEyes_2018_01_1/s0019'.\n",
            "There are 0 directories and 704 images in '/content/drive/MyDrive/Driver Distraction & Drowsiness detection Using Tensorflow/Driver Drowsiness Detection/Dataset/mrlEyes_2018_01_1/s0020'.\n",
            "There are 0 directories and 987 images in '/content/drive/MyDrive/Driver Distraction & Drowsiness detection Using Tensorflow/Driver Drowsiness Detection/Dataset/mrlEyes_2018_01_1/s0021'.\n",
            "There are 0 directories and 3242 images in '/content/drive/MyDrive/Driver Distraction & Drowsiness detection Using Tensorflow/Driver Drowsiness Detection/Dataset/mrlEyes_2018_01_1/s0001'.\n",
            "There are 0 directories and 1114 images in '/content/drive/MyDrive/Driver Distraction & Drowsiness detection Using Tensorflow/Driver Drowsiness Detection/Dataset/mrlEyes_2018_01_1/s0002'.\n",
            "There are 0 directories and 679 images in '/content/drive/MyDrive/Driver Distraction & Drowsiness detection Using Tensorflow/Driver Drowsiness Detection/Dataset/mrlEyes_2018_01_1/s0003'.\n",
            "There are 0 directories and 1069 images in '/content/drive/MyDrive/Driver Distraction & Drowsiness detection Using Tensorflow/Driver Drowsiness Detection/Dataset/mrlEyes_2018_01_1/s0004'.\n",
            "There are 0 directories and 736 images in '/content/drive/MyDrive/Driver Distraction & Drowsiness detection Using Tensorflow/Driver Drowsiness Detection/Dataset/mrlEyes_2018_01_1/s0005'.\n",
            "There are 0 directories and 1012 images in '/content/drive/MyDrive/Driver Distraction & Drowsiness detection Using Tensorflow/Driver Drowsiness Detection/Dataset/mrlEyes_2018_01_1/s0006'.\n",
            "There are 0 directories and 624 images in '/content/drive/MyDrive/Driver Distraction & Drowsiness detection Using Tensorflow/Driver Drowsiness Detection/Dataset/mrlEyes_2018_01_1/s0007'.\n",
            "There are 0 directories and 832 images in '/content/drive/MyDrive/Driver Distraction & Drowsiness detection Using Tensorflow/Driver Drowsiness Detection/Dataset/mrlEyes_2018_01_1/s0008'.\n",
            "There are 0 directories and 387 images in '/content/drive/MyDrive/Driver Distraction & Drowsiness detection Using Tensorflow/Driver Drowsiness Detection/Dataset/mrlEyes_2018_01_1/s0009'.\n",
            "There are 0 directories and 399 images in '/content/drive/MyDrive/Driver Distraction & Drowsiness detection Using Tensorflow/Driver Drowsiness Detection/Dataset/mrlEyes_2018_01_1/s0010'.\n",
            "There are 0 directories and 1648 images in '/content/drive/MyDrive/Driver Distraction & Drowsiness detection Using Tensorflow/Driver Drowsiness Detection/Dataset/mrlEyes_2018_01_1/s0011'.\n",
            "There are 0 directories and 382 images in '/content/drive/MyDrive/Driver Distraction & Drowsiness detection Using Tensorflow/Driver Drowsiness Detection/Dataset/mrlEyes_2018_01_1/s0022'.\n",
            "There are 0 directories and 522 images in '/content/drive/MyDrive/Driver Distraction & Drowsiness detection Using Tensorflow/Driver Drowsiness Detection/Dataset/mrlEyes_2018_01_1/s0023'.\n",
            "There are 0 directories and 752 images in '/content/drive/MyDrive/Driver Distraction & Drowsiness detection Using Tensorflow/Driver Drowsiness Detection/Dataset/mrlEyes_2018_01_1/s0024'.\n",
            "There are 0 directories and 1502 images in '/content/drive/MyDrive/Driver Distraction & Drowsiness detection Using Tensorflow/Driver Drowsiness Detection/Dataset/mrlEyes_2018_01_1/s0025'.\n",
            "There are 0 directories and 1246 images in '/content/drive/MyDrive/Driver Distraction & Drowsiness detection Using Tensorflow/Driver Drowsiness Detection/Dataset/mrlEyes_2018_01_1/s0026'.\n",
            "There are 0 directories and 665 images in '/content/drive/MyDrive/Driver Distraction & Drowsiness detection Using Tensorflow/Driver Drowsiness Detection/Dataset/mrlEyes_2018_01_1/s0027'.\n",
            "There are 0 directories and 736 images in '/content/drive/MyDrive/Driver Distraction & Drowsiness detection Using Tensorflow/Driver Drowsiness Detection/Dataset/mrlEyes_2018_01_1/s0028'.\n",
            "There are 0 directories and 1393 images in '/content/drive/MyDrive/Driver Distraction & Drowsiness detection Using Tensorflow/Driver Drowsiness Detection/Dataset/mrlEyes_2018_01_1/s0029'.\n",
            "There are 0 directories and 1384 images in '/content/drive/MyDrive/Driver Distraction & Drowsiness detection Using Tensorflow/Driver Drowsiness Detection/Dataset/mrlEyes_2018_01_1/s0030'.\n",
            "There are 0 directories and 6162 images in '/content/drive/MyDrive/Driver Distraction & Drowsiness detection Using Tensorflow/Driver Drowsiness Detection/Dataset/mrlEyes_2018_01_1/s0032'.\n",
            "There are 0 directories and 681 images in '/content/drive/MyDrive/Driver Distraction & Drowsiness detection Using Tensorflow/Driver Drowsiness Detection/Dataset/mrlEyes_2018_01_1/s0033'.\n",
            "There are 0 directories and 739 images in '/content/drive/MyDrive/Driver Distraction & Drowsiness detection Using Tensorflow/Driver Drowsiness Detection/Dataset/mrlEyes_2018_01_1/s0034'.\n",
            "There are 0 directories and 642 images in '/content/drive/MyDrive/Driver Distraction & Drowsiness detection Using Tensorflow/Driver Drowsiness Detection/Dataset/mrlEyes_2018_01_1/s0035'.\n",
            "There are 0 directories and 1889 images in '/content/drive/MyDrive/Driver Distraction & Drowsiness detection Using Tensorflow/Driver Drowsiness Detection/Dataset/mrlEyes_2018_01_1/s0016'.\n",
            "There are 0 directories and 1648 images in '/content/drive/MyDrive/Driver Distraction & Drowsiness detection Using Tensorflow/Driver Drowsiness Detection/Dataset/mrlEyes_2018_01_1/s0017'.\n",
            "There are 0 directories and 6193 images in '/content/drive/MyDrive/Driver Distraction & Drowsiness detection Using Tensorflow/Driver Drowsiness Detection/Dataset/mrlEyes_2018_01_1/s0036'.\n",
            "There are 0 directories and 10257 images in '/content/drive/MyDrive/Driver Distraction & Drowsiness detection Using Tensorflow/Driver Drowsiness Detection/Dataset/mrlEyes_2018_01_1/s0037'.\n",
            "There are 0 directories and 1738 images in '/content/drive/MyDrive/Driver Distraction & Drowsiness detection Using Tensorflow/Driver Drowsiness Detection/Dataset/mrlEyes_2018_01_1/s0031'.\n"
          ]
        }
      ]
    },
    {
      "cell_type": "code",
      "source": [
        "files = 0\n",
        "for _, _, filenames in os.walk(dataset_path):\n",
        "  files += len(filenames)\n",
        "\n",
        "print(f\"Total images in dataset : {files}\")"
      ],
      "metadata": {
        "colab": {
          "base_uri": "https://localhost:8080/"
        },
        "id": "4zNwxnUTs4hi",
        "outputId": "d5b86e6e-d75c-4019-f5a2-9fe94177b84d"
      },
      "execution_count": null,
      "outputs": [
        {
          "output_type": "stream",
          "name": "stdout",
          "text": [
            "Total images in dataset : 84900\n"
          ]
        }
      ]
    },
    {
      "cell_type": "code",
      "source": [
        "file = \"s001_00123_0_0_5_2_3_01.png\"\n",
        "eye_state = file.split('_')[4]\n",
        "eye_state"
      ],
      "metadata": {
        "colab": {
          "base_uri": "https://localhost:8080/",
          "height": 35
        },
        "id": "8EyIM1e7ATmD",
        "outputId": "9393dba2-2e3b-44b0-ceea-94171fd7fa30"
      },
      "execution_count": null,
      "outputs": [
        {
          "output_type": "execute_result",
          "data": {
            "text/plain": [
              "'5'"
            ],
            "application/vnd.google.colaboratory.intrinsic+json": {
              "type": "string"
            }
          },
          "metadata": {},
          "execution_count": 7
        }
      ]
    },
    {
      "cell_type": "code",
      "source": [
        "# eye_directory = '/content/drive/MyDrive/Driver Distraction & Drowsiness detection Using Tensorflow/Driver Drowsiness Detection/Dataset/Categorized_Eye_data'"
      ],
      "metadata": {
        "id": "eBJwPAOsEZIs"
      },
      "execution_count": null,
      "outputs": []
    },
    {
      "cell_type": "markdown",
      "source": [
        "### split root folder into train test val folders"
      ],
      "metadata": {
        "id": "V4sWd3HLEEux"
      }
    },
    {
      "cell_type": "code",
      "source": [
        "import os\n",
        "import shutil\n",
        "import random\n",
        "\n",
        "def split_dataset(input_folder, output_folder, split_ratio=(0.75, 0.2, 0.05), random_seed=42):\n",
        "\n",
        "    random.seed(random_seed)\n",
        "\n",
        "    for root, dirs, files in os.walk(input_folder):\n",
        "        for person_folder in dirs:\n",
        "            person_path = os.path.join(root, person_folder)\n",
        "            image_files = [f for f in os.listdir(person_path) if f.endswith(\".png\")]\n",
        "\n",
        "\n",
        "            random.shuffle(image_files)\n",
        "\n",
        "\n",
        "            total_images = len(image_files)\n",
        "            num_train = int(split_ratio[0] * total_images)\n",
        "            num_val = int(split_ratio[1] * total_images)\n",
        "            num_test = total_images - num_train - num_val\n",
        "\n",
        "            # Split the images\n",
        "            train_images = image_files[:num_train]\n",
        "            val_images = image_files[num_train:num_train + num_val]\n",
        "            test_images = image_files[num_train + num_val:]\n",
        "\n",
        "            # Create output directories if they don't exist\n",
        "            for dataset_type in ['training_dataset', 'validation_dataset', 'test_dataset']:\n",
        "                for eye_state in ['closed_eye', 'open_eye']:\n",
        "                    output_path = os.path.join(output_folder, dataset_type, eye_state)\n",
        "                    os.makedirs(output_path, exist_ok=True)\n",
        "\n",
        "            # Copy images to their respective folders based on eye state\n",
        "            for image in train_images:\n",
        "                eye_state = int(image.split('_')[4])\n",
        "                closed_eye_directory = os.path.join(output_folder, 'training_dataset', 'closed_eye')\n",
        "                open_eye_directory = os.path.join(output_folder, 'training_dataset', 'open_eye')\n",
        "                destination_directory = open_eye_directory if eye_state == 1 else closed_eye_directory\n",
        "                shutil.copy(os.path.join(person_path, image), os.path.join(destination_directory, image))\n",
        "\n",
        "            for image in val_images:\n",
        "                eye_state = int(image.split('_')[4])\n",
        "                closed_eye_directory = os.path.join(output_folder, 'validation_dataset', 'closed_eye')\n",
        "                open_eye_directory = os.path.join(output_folder, 'validation_dataset', 'open_eye')\n",
        "                destination_directory = open_eye_directory if eye_state == 1 else closed_eye_directory\n",
        "                shutil.copy(os.path.join(person_path, image), os.path.join(destination_directory, image))\n",
        "\n",
        "            for image in test_images:\n",
        "                eye_state = int(image.split('_')[4])\n",
        "                closed_eye_directory = os.path.join(output_folder, 'test_dataset', 'closed_eye')\n",
        "                open_eye_directory = os.path.join(output_folder, 'test_dataset', 'open_eye')\n",
        "                destination_directory = open_eye_directory if eye_state == 1 else closed_eye_directory\n",
        "                shutil.copy(os.path.join(person_path, image), os.path.join(destination_directory, image))\n",
        "\n",
        "main_dataset_folder = '/content/drive/MyDrive/Driver Distraction & Drowsiness detection Using Tensorflow/Driver Drowsiness Detection/Dataset/mrlEyes_2018_01_1'\n",
        "output_folder = '/content/drive/MyDrive/Driver Distraction & Drowsiness detection Using Tensorflow/Driver Drowsiness Detection/Dataset/Eyes_Dataset_v03'\n",
        "split_dataset(main_dataset_folder, output_folder)\n"
      ],
      "metadata": {
        "id": "zoySzHGBE1Ou"
      },
      "execution_count": null,
      "outputs": []
    },
    {
      "cell_type": "markdown",
      "source": [
        "### file structure after executing above code"
      ],
      "metadata": {
        "id": "Uw_EHtGY-mA9"
      }
    },
    {
      "cell_type": "code",
      "source": [
        "import os\n",
        "\n",
        "def print_directory_structure(directory, indent=0):\n",
        "    for item in os.listdir(directory):\n",
        "        path = os.path.join(directory, item)\n",
        "        if os.path.isdir(path):\n",
        "            print(f\"{'    ' * indent}{os.path.basename(path)} - {len(os.listdir(path))} files\")\n",
        "            print_directory_structure(path, indent + 1)\n",
        "\n",
        "eye_directory = '/content/drive/MyDrive/Driver Distraction & Drowsiness detection Using Tensorflow/Driver Drowsiness Detection/Dataset/EyeDatasetFinal'\n",
        "\n",
        "print_directory_structure(eye_directory)"
      ],
      "metadata": {
        "colab": {
          "base_uri": "https://localhost:8080/",
          "height": 391
        },
        "id": "fFFz5rKFRBrD",
        "outputId": "9f1832f3-47b3-4682-f900-5b105d4aa2a0"
      },
      "execution_count": null,
      "outputs": [
        {
          "output_type": "stream",
          "name": "stdout",
          "text": [
            "training_dataset - 2 files\n",
            "    closed_eye - 21643 files\n"
          ]
        },
        {
          "output_type": "error",
          "ename": "KeyboardInterrupt",
          "evalue": "",
          "traceback": [
            "\u001b[0;31m---------------------------------------------------------------------------\u001b[0m",
            "\u001b[0;31mKeyboardInterrupt\u001b[0m                         Traceback (most recent call last)",
            "\u001b[0;32m<ipython-input-9-de05cb8ae2b1>\u001b[0m in \u001b[0;36m<cell line: 12>\u001b[0;34m()\u001b[0m\n\u001b[1;32m     10\u001b[0m \u001b[0meye_directory\u001b[0m \u001b[0;34m=\u001b[0m \u001b[0;34m'/content/drive/MyDrive/Driver Distraction & Drowsiness detection Using Tensorflow/Driver Drowsiness Detection/Dataset/EyeDatasetFinal'\u001b[0m\u001b[0;34m\u001b[0m\u001b[0;34m\u001b[0m\u001b[0m\n\u001b[1;32m     11\u001b[0m \u001b[0;34m\u001b[0m\u001b[0m\n\u001b[0;32m---> 12\u001b[0;31m \u001b[0mprint_directory_structure\u001b[0m\u001b[0;34m(\u001b[0m\u001b[0meye_directory\u001b[0m\u001b[0;34m)\u001b[0m\u001b[0;34m\u001b[0m\u001b[0;34m\u001b[0m\u001b[0m\n\u001b[0m",
            "\u001b[0;32m<ipython-input-9-de05cb8ae2b1>\u001b[0m in \u001b[0;36mprint_directory_structure\u001b[0;34m(directory, indent)\u001b[0m\n\u001b[1;32m      6\u001b[0m         \u001b[0;32mif\u001b[0m \u001b[0mos\u001b[0m\u001b[0;34m.\u001b[0m\u001b[0mpath\u001b[0m\u001b[0;34m.\u001b[0m\u001b[0misdir\u001b[0m\u001b[0;34m(\u001b[0m\u001b[0mpath\u001b[0m\u001b[0;34m)\u001b[0m\u001b[0;34m:\u001b[0m\u001b[0;34m\u001b[0m\u001b[0;34m\u001b[0m\u001b[0m\n\u001b[1;32m      7\u001b[0m             \u001b[0mprint\u001b[0m\u001b[0;34m(\u001b[0m\u001b[0;34mf\"{'    ' * indent}{os.path.basename(path)} - {len(os.listdir(path))} files\"\u001b[0m\u001b[0;34m)\u001b[0m\u001b[0;34m\u001b[0m\u001b[0;34m\u001b[0m\u001b[0m\n\u001b[0;32m----> 8\u001b[0;31m             \u001b[0mprint_directory_structure\u001b[0m\u001b[0;34m(\u001b[0m\u001b[0mpath\u001b[0m\u001b[0;34m,\u001b[0m \u001b[0mindent\u001b[0m \u001b[0;34m+\u001b[0m \u001b[0;36m1\u001b[0m\u001b[0;34m)\u001b[0m\u001b[0;34m\u001b[0m\u001b[0;34m\u001b[0m\u001b[0m\n\u001b[0m\u001b[1;32m      9\u001b[0m \u001b[0;34m\u001b[0m\u001b[0m\n\u001b[1;32m     10\u001b[0m \u001b[0meye_directory\u001b[0m \u001b[0;34m=\u001b[0m \u001b[0;34m'/content/drive/MyDrive/Driver Distraction & Drowsiness detection Using Tensorflow/Driver Drowsiness Detection/Dataset/EyeDatasetFinal'\u001b[0m\u001b[0;34m\u001b[0m\u001b[0;34m\u001b[0m\u001b[0m\n",
            "\u001b[0;32m<ipython-input-9-de05cb8ae2b1>\u001b[0m in \u001b[0;36mprint_directory_structure\u001b[0;34m(directory, indent)\u001b[0m\n\u001b[1;32m      6\u001b[0m         \u001b[0;32mif\u001b[0m \u001b[0mos\u001b[0m\u001b[0;34m.\u001b[0m\u001b[0mpath\u001b[0m\u001b[0;34m.\u001b[0m\u001b[0misdir\u001b[0m\u001b[0;34m(\u001b[0m\u001b[0mpath\u001b[0m\u001b[0;34m)\u001b[0m\u001b[0;34m:\u001b[0m\u001b[0;34m\u001b[0m\u001b[0;34m\u001b[0m\u001b[0m\n\u001b[1;32m      7\u001b[0m             \u001b[0mprint\u001b[0m\u001b[0;34m(\u001b[0m\u001b[0;34mf\"{'    ' * indent}{os.path.basename(path)} - {len(os.listdir(path))} files\"\u001b[0m\u001b[0;34m)\u001b[0m\u001b[0;34m\u001b[0m\u001b[0;34m\u001b[0m\u001b[0m\n\u001b[0;32m----> 8\u001b[0;31m             \u001b[0mprint_directory_structure\u001b[0m\u001b[0;34m(\u001b[0m\u001b[0mpath\u001b[0m\u001b[0;34m,\u001b[0m \u001b[0mindent\u001b[0m \u001b[0;34m+\u001b[0m \u001b[0;36m1\u001b[0m\u001b[0;34m)\u001b[0m\u001b[0;34m\u001b[0m\u001b[0;34m\u001b[0m\u001b[0m\n\u001b[0m\u001b[1;32m      9\u001b[0m \u001b[0;34m\u001b[0m\u001b[0m\n\u001b[1;32m     10\u001b[0m \u001b[0meye_directory\u001b[0m \u001b[0;34m=\u001b[0m \u001b[0;34m'/content/drive/MyDrive/Driver Distraction & Drowsiness detection Using Tensorflow/Driver Drowsiness Detection/Dataset/EyeDatasetFinal'\u001b[0m\u001b[0;34m\u001b[0m\u001b[0;34m\u001b[0m\u001b[0m\n",
            "\u001b[0;32m<ipython-input-9-de05cb8ae2b1>\u001b[0m in \u001b[0;36mprint_directory_structure\u001b[0;34m(directory, indent)\u001b[0m\n\u001b[1;32m      2\u001b[0m \u001b[0;34m\u001b[0m\u001b[0m\n\u001b[1;32m      3\u001b[0m \u001b[0;32mdef\u001b[0m \u001b[0mprint_directory_structure\u001b[0m\u001b[0;34m(\u001b[0m\u001b[0mdirectory\u001b[0m\u001b[0;34m,\u001b[0m \u001b[0mindent\u001b[0m\u001b[0;34m=\u001b[0m\u001b[0;36m0\u001b[0m\u001b[0;34m)\u001b[0m\u001b[0;34m:\u001b[0m\u001b[0;34m\u001b[0m\u001b[0;34m\u001b[0m\u001b[0m\n\u001b[0;32m----> 4\u001b[0;31m     \u001b[0;32mfor\u001b[0m \u001b[0mitem\u001b[0m \u001b[0;32min\u001b[0m \u001b[0mos\u001b[0m\u001b[0;34m.\u001b[0m\u001b[0mlistdir\u001b[0m\u001b[0;34m(\u001b[0m\u001b[0mdirectory\u001b[0m\u001b[0;34m)\u001b[0m\u001b[0;34m:\u001b[0m\u001b[0;34m\u001b[0m\u001b[0;34m\u001b[0m\u001b[0m\n\u001b[0m\u001b[1;32m      5\u001b[0m         \u001b[0mpath\u001b[0m \u001b[0;34m=\u001b[0m \u001b[0mos\u001b[0m\u001b[0;34m.\u001b[0m\u001b[0mpath\u001b[0m\u001b[0;34m.\u001b[0m\u001b[0mjoin\u001b[0m\u001b[0;34m(\u001b[0m\u001b[0mdirectory\u001b[0m\u001b[0;34m,\u001b[0m \u001b[0mitem\u001b[0m\u001b[0;34m)\u001b[0m\u001b[0;34m\u001b[0m\u001b[0;34m\u001b[0m\u001b[0m\n\u001b[1;32m      6\u001b[0m         \u001b[0;32mif\u001b[0m \u001b[0mos\u001b[0m\u001b[0;34m.\u001b[0m\u001b[0mpath\u001b[0m\u001b[0;34m.\u001b[0m\u001b[0misdir\u001b[0m\u001b[0;34m(\u001b[0m\u001b[0mpath\u001b[0m\u001b[0;34m)\u001b[0m\u001b[0;34m:\u001b[0m\u001b[0;34m\u001b[0m\u001b[0;34m\u001b[0m\u001b[0m\n",
            "\u001b[0;31mKeyboardInterrupt\u001b[0m: "
          ]
        }
      ]
    },
    {
      "cell_type": "code",
      "source": [
        "eye_directory = '/content/drive/MyDrive/Driver Distraction & Drowsiness detection Using Tensorflow/Driver Drowsiness Detection/Dataset/EyeDatasetFinal'\n",
        "files = 0\n",
        "for _, _, filenames in os.walk(eye_directory):\n",
        "  files += len(filenames)\n",
        "\n",
        "print(f\"Total images in dataset : {files}\")"
      ],
      "metadata": {
        "id": "QT2sBk3_5ciB",
        "colab": {
          "base_uri": "https://localhost:8080/"
        },
        "outputId": "e6348988-278d-4417-a5ee-d7c5a35b9d96"
      },
      "execution_count": null,
      "outputs": [
        {
          "output_type": "stream",
          "name": "stdout",
          "text": [
            "Total images in dataset : 47100\n"
          ]
        }
      ]
    },
    {
      "cell_type": "code",
      "source": [],
      "metadata": {
        "id": "eFpvGKajAYVd"
      },
      "execution_count": null,
      "outputs": []
    }
  ]
}